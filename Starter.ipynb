{
 "cells": [
  {
   "cell_type": "code",
   "execution_count": 1,
   "id": "6f303897-b475-4d3a-95be-7f2a6919deff",
   "metadata": {},
   "outputs": [],
   "source": [
    "#IMPORTS:\n",
    "import csv\n"
   ]
  },
  {
   "cell_type": "code",
   "execution_count": 2,
   "id": "b28e971d-8d4c-48f7-a9b9-276edf0a4b46",
   "metadata": {},
   "outputs": [],
   "source": [
    "#CLASSES TO ORGANIZE COURSE/CATEGORIES for MAJORS: \n",
    "\n",
    "class Course:\n",
    "    def __init__(self, dpt, num, prqs): \n",
    "        self.name = (dpt, num)\n",
    "        self.prqs = prqs\n",
    "        \n",
    "    def __str__(self):\n",
    "        return f\"{self.name[0].upper()}:{self.name[1]} ({len(self.prqs)} prereqs)\"\n",
    "    def __repr__(self):\n",
    "        return f\"{self.name[0].upper()}:{self.name[1]} ({len(self.prqs)} prereqs)\"\n",
    "\n",
    "#class Grouped_Courses:\n",
    "#    def __init__(self, courses): \n",
    "#        self.courses = courses\n",
    "#        self.size = len(self.courses)\n",
    "        \n",
    "    def __str__(self):\n",
    "        return str([f\"{str(c)}\" for c in self.courses])\n",
    "        \n",
    "    def __repr__(self):\n",
    "        return str([f\"{str(c)}\" for c in self.courses])\n",
    "\n",
    "class Category:\n",
    "    def __init__(self, maj, name, courses, num):\n",
    "        self.major = maj\n",
    "        self.name = name\n",
    "        self.courses = courses\n",
    "        self.num = num\n",
    "        \n",
    "    def __str__(self):\n",
    "        return f\"{self.major.upper()}: {self.num} classes from {self.name}\"\n",
    "    def __repr__(self):\n",
    "        return f\"{self.major.upper()}: {self.num} classes from {self.name}\"\n",
    "\n",
    "class Edge:\n",
    "    def __init__(self, className, cat1, cat2):\n",
    "        pass\n",
    "        "
   ]
  },
  {
   "cell_type": "code",
   "execution_count": 3,
   "id": "5262fbb5-5ea8-49e1-95d2-00bf68ccc3c7",
   "metadata": {
    "editable": true,
    "slideshow": {
     "slide_type": ""
    },
    "tags": []
   },
   "outputs": [],
   "source": [
    "Courses = dict() #Keys are course names, values are sets of edges\n",
    "Categories = [] #List of categories\n",
    "\n",
    "#PARSE CLASSES FROM TODD's FILE:\n",
    "\n",
    "\n",
    "#ITERATE THROUGH RORY's FILES\n",
    "NAMES = [\"COMP SCI\", \"DATA SCI\"]#[\"MATH\", \"COMP SCI\", \"DATA SCI\", \"INFO SCI\", \"STAT\"]\n",
    "\n",
    "for FILENAME in NAMES:\n",
    "    with open(f\"{FILENAME}.txt\") as f:\n",
    "        for row in f:\n",
    "            r = row.split(\",\")\n",
    "            catName = r[0].strip()\n",
    "            catNum = int(r[1].strip())\n",
    "            category = Category(FILENAME, catName, set(), catNum)\n",
    "            for i in range(2,len(r)):\n",
    "                s = r[i].strip()\n",
    "                dpts = \"/\".join( sorted(s[:-3].strip().split(\"/\") ) )\n",
    "                num = int(s[-3:].strip()) \n",
    "                category.courses.add( (dpts, num) )\n",
    "                for other in Categories:\n",
    "                    if (dpts, num) in other.courses and category.major!=other.major:\n",
    "                        if (dpts,num) not in Courses:\n",
    "                            Courses[(dpts,num)] = set()\n",
    "                        Courses[(dpts, num)].add( (category.name, other.name) )\n",
    "            Categories.append(category)"
   ]
  },
  {
   "cell_type": "code",
   "execution_count": null,
   "id": "5c1d695b-3922-4613-a1b5-7a57f07a7b9c",
   "metadata": {},
   "outputs": [],
   "source": []
  }
 ],
 "metadata": {
  "kernelspec": {
   "display_name": "Python 3 (ipykernel)",
   "language": "python",
   "name": "python3"
  },
  "language_info": {
   "codemirror_mode": {
    "name": "ipython",
    "version": 3
   },
   "file_extension": ".py",
   "mimetype": "text/x-python",
   "name": "python",
   "nbconvert_exporter": "python",
   "pygments_lexer": "ipython3",
   "version": "3.12.5"
  }
 },
 "nbformat": 4,
 "nbformat_minor": 5
}
